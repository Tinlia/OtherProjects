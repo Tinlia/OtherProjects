import pandas as pd
from sklearn.tree import DecisionTreeClassifier
from sklearn.model_selection import train_test_split
from sklearn.metrics import accuracy_score

md = pd.read_csv('music.csv') # md = music_data
X = md.drop(columns=['genre']) # Splits the data into an input (Age, Gender)
y = md['genre']  # Splits the data into an output (Genre)
X_train, X_test, y_train, y_test = train_test_split(X,y,test_size=0.2) # Allocates 20% of the data to testing

model = DecisionTreeClassifier()
model.fit(X_train, y_train)
predictions = model.predict(X_test)

score = accuracy_score(y_test, predictions) 
score
