{
 "cells": [
  {
   "cell_type": "code",
   "execution_count": 41,
   "id": "a20e9f5d",
   "metadata": {},
   "outputs": [],
   "source": [
    "import pandas as pd\n",
    "from sklearn.tree import DecisionTreeClassifier\n",
    "from sklearn import tree\n",
    "\n",
    "md = pd.read_csv('music.csv') # md = music_data\n",
    "x = md.drop(columns=['genre']) # Splits the data into an input (Age, Gender)\n",
    "y = md['genre']  # Splits the data into an output (Genre)\n",
    "\n",
    "model = DecisionTreeClassifier() # Create a model\n",
    "model.fit(x, y) # Train the model\n",
    "\n",
    "tree.export_graphviz(model, out_file='music-recommender.dot', \n",
    "                     feature_names = ['age','gender'], # So the rules in the nodes are visible\n",
    "                     class_names = sorted(y.unique()), # Used to display the unique classes in nodes\n",
    "                     label = 'all', # Gives every node readable labels\n",
    "                     rounded = True, # Segments have rounded corners\n",
    "                     filled = True) # Fills with a colour"
   ]
  },
  {
   "cell_type": "code",
   "execution_count": null,
   "id": "490f3356",
   "metadata": {},
   "outputs": [],
   "source": []
  }
 ],
 "metadata": {
  "kernelspec": {
   "display_name": "Python 3 (ipykernel)",
   "language": "python",
   "name": "python3"
  },
  "language_info": {
   "codemirror_mode": {
    "name": "ipython",
    "version": 3
   },
   "file_extension": ".py",
   "mimetype": "text/x-python",
   "name": "python",
   "nbconvert_exporter": "python",
   "pygments_lexer": "ipython3",
   "version": "3.9.12"
  }
 },
 "nbformat": 4,
 "nbformat_minor": 5
}
